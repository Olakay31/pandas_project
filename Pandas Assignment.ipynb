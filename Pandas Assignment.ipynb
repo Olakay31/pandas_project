{
 "cells": [
  {
   "cell_type": "code",
   "execution_count": 3,
   "id": "faf13704",
   "metadata": {},
   "outputs": [],
   "source": [
    "import numpy as np\n",
    "import pandas as pd"
   ]
  },
  {
   "cell_type": "markdown",
   "id": "f35699f3",
   "metadata": {},
   "source": [
    "# Assignment 1\n",
    "Create a Series object from a list of 10 items using a customized index values.\n",
    "Create a Series object from a dictionary of 10 items.\n",
    "Create a DataFrame object from a Series object with a customized index values.\n",
    "Create a DataFrame object generated from random values of 5 rows by 5 columns numpy array. Give each columns a title and each index a name.\n",
    "Separate the DataFrame in assignment 4 to its individual Index, Values and Colomns"
   ]
  },
  {
   "cell_type": "code",
   "execution_count": 19,
   "id": "4adf362b",
   "metadata": {},
   "outputs": [],
   "source": [
    "#Create a Series object from a list of 10 items using a customized index values.\n",
    "Grocery = pd.Series([\"Wine\", \"Beaf\", \"Rice\", \"Maggi\", \"Cookies\", \"Goodies\", \"Semovita\", \"Power Oil\", \"Beverages\", \"Chocolate\"], \n",
    "                    index=['i', 'ii', 'iii', 'iv', 'v', 'vi', 'vii', 'viii', 'ix', \"x\"])\n",
    "# Grocery"
   ]
  },
  {
   "cell_type": "code",
   "execution_count": 17,
   "id": "8ee99ef4",
   "metadata": {},
   "outputs": [],
   "source": [
    "#Create a Series object from a dictionary of 10 items.\n",
    "Stationary = {'Books':2500, 'Pen':6400, 'Pencil':4600, 'Ruller':3600, 'Text Book':3400, 'Erazer':1500,\n",
    "          'Dictionary':2300, 'Board':1000, 'Bible':6500, 'Hymn Book':2000}\n",
    "Stationarydata = pd.Series(Stationary)\n",
    "# Stationarydata"
   ]
  },
  {
   "cell_type": "code",
   "execution_count": 18,
   "id": "a151ad09",
   "metadata": {},
   "outputs": [],
   "source": [
    "#Create a DataFrame object from a Series object with a customized index values\n",
    "Stationary= pd.DataFrame({'Stationary Store':Stationarydata})\n",
    "# Stationary"
   ]
  },
  {
   "cell_type": "code",
   "execution_count": 15,
   "id": "a15319c5",
   "metadata": {},
   "outputs": [],
   "source": [
    "# Create a DataFrame object generated from random values of 5 rows by 5 columns numpy array.\n",
    "# Give each columns a title and each index a name.\n",
    "Animals= pd.DataFrame(np.random.rand(5,5), columns=['Apes', 'Birds', 'Cattles', 'Dogs', 'Elephants'], \n",
    "                          index=['Gibber', 'Twitter', 'Moo', 'Bark', 'Trumpet'])\n",
    "# Animals"
   ]
  },
  {
   "cell_type": "code",
   "execution_count": 155,
   "id": "952b2723",
   "metadata": {},
   "outputs": [],
   "source": [
    "#Separate the DataFrame in assignment 4 to its individual Index, Values and Colomns\n",
    "Animalsrec= pd.DataFrame(Animals, columns=['Animals Sound'], \n",
    "index=['Gibber', 'Twitter', 'Moo', 'Bark', 'Trumpet'])\n",
    "# Animalsrec"
   ]
  },
  {
   "cell_type": "markdown",
   "id": "07e31d9e",
   "metadata": {},
   "source": [
    "# Assignment 2\n",
    "1. Collate the following informations for every 36 states in Nigeria.\n",
    "     1. State Name \n",
    "     2. State Capital \n",
    "     3. State Population \n",
    "     4. State Landmass\n",
    "2. Create a Pandas Series object of state population and landmass using state name as the key of both. \n",
    "3. From the two Series objects, create a DataFrame object and add the state capital as new collumn to the table. \n",
    "4. Calculate the population density of each state and use it to generate a new collumn on the DataFrame object."
   ]
  },
  {
   "cell_type": "code",
   "execution_count": 37,
   "id": "6642a9c4",
   "metadata": {},
   "outputs": [],
   "source": [
    "#1a. State Name\n",
    "State = pd.Series([\"Kano\", \" Lagos\", 'Kaduna', 'Katsina', 'Oyo', 'Rivers', 'Bauchi', 'Jigawa','Benue','Anambra', 'Borno',\n",
    "                   'Delta', 'Imo', 'Niger', 'Akwa Ibom', 'Ogun', 'Sokoto', 'Ondo', 'Osun', 'Kogi', 'Zamfara', 'Enugu', \n",
    "                   'Kebbi', 'Edo', 'Plateau', 'Adamawa', 'Cross River', 'Abia', 'Ekiti', 'Kwara', 'Gombe', 'Yobe', \n",
    "                   'Taraba', 'Ebonyi', 'Nasarawa', 'Bayelsa', ' Federal Capital']) \n",
    "#                     index=['1', '2', '3', '4', '5', '6', '7', '8', '9', '10', '11', '12', '14', '14', '15', '16', '17',\n",
    "#                            '18', '10', '20', '21', '22', '23', '24', '25', '26', '27', \"28\", '29', '30', '31', '32',\n",
    "#                            '33', '34', '35','36', '-'])\n",
    "State"
   ]
  },
  {
   "cell_type": "code",
   "execution_count": 131,
   "id": "600816c4",
   "metadata": {},
   "outputs": [],
   "source": [
    "#Capital Name\n",
    "Capital = pd.Series([\"Kano\", \" Ikeja\", 'Kaduna', 'Katsina', 'Ibadan', 'Port Harcourt', 'Bauchi', 'Dutse','Makurdi','Awka', \n",
    "                     'Maiduguri', 'Asaba', 'Owerri', 'Minna', 'Uyo', 'Abeokuta', 'Sokoto', 'Akure', 'Osogbo', 'Lokoja', \n",
    "                     'Gusau', 'Enugu', 'Birnin Kebbi', 'Benin city', 'Jos', 'Yola', 'Calabar', 'Umuahia', 'Ado Ekiti', \n",
    "                     'Ilorin', 'Gombe', 'Damaturu', 'Jalingo', 'Abakaliki', 'Lafia', 'Yenagoa', 'Territory  Abuja'], \n",
    "                    index=[\"Kano\", \" Lagos\", 'Kaduna', 'Katsina', 'Oyo', 'Rivers', 'Bauchi', 'Jigawa','Benue','Anambra', \n",
    "                          'Borno','Delta', 'Imo', 'Niger', 'Akwa Ibom', 'Ogun', 'Sokoto', 'Ondo', 'Osun', 'Kogi', 'Zamfara', \n",
    "                           'Enugu', 'Kebbi', 'Edo', 'Plateau', 'Adamawa', 'Cross River', 'Abia', 'Ekiti', 'Kwara', \n",
    "                           'Gombe', 'Yobe', 'Taraba', 'Ebonyi', 'Nasarawa', 'Bayelsa', ' Federal Capital'])\n",
    "Capital"
   ]
  },
  {
   "cell_type": "code",
   "execution_count": 34,
   "id": "6d77e7f4",
   "metadata": {},
   "outputs": [],
   "source": [
    "#1c. population\n",
    "Population = pd.Series(['9,383,682', '9,013,534', '6,066,562', '5,792,578', '5,591,589', '5,185,400','4,676,465', \n",
    "                        '4,348,649', '4,219,244', '4,182,032', '4,151,193', '4,098,391', '3,934,899','3,950,249', \n",
    "                        '3,920,208', '3,728,098', '3,696,999', '3,441,024', '3,423,535', '3,278,487','3,259,846', \n",
    "                        '3,257,298', '3,238,628', '3,218,332', '3,178,712', '3,168,101', '2,888,966','2,833,999', \n",
    "                        '2,384,212', '2,371,089', '2,353,879', '2,321,591', '2,300,736', '2,173,501','1,863,275', \n",
    "                        '1,703,358', '1405201'])      \n",
    "Population\n"
   ]
  },
  {
   "cell_type": "code",
   "execution_count": 35,
   "id": "77ec7a88",
   "metadata": {},
   "outputs": [],
   "source": [
    "#1d. Landmass Km2\n",
    "# Landmass = pd.Series([\"20,680.00\", \" 3,345.00\", '43,460.00', '26,785.00', '27,460.00', '11,077.00', '64,605.00', '22,605.00',\n",
    "#                       '34,059.00','4,844.00', '71,130.00', '18,050.00', '5,430.00', '13,930.00', '6,187.00', '16,762.00', \n",
    "#                       '25,973.00', '14,606.00', '10,245.00', '32,440.00', '39,762.00', '12,440.00', '41,855.00', '17,450.00', \n",
    "#                       '58,030.00', '36,917.00', '21,050.00', '5,420.00', '6,353.00', '37,700.00', '18,768.00', '45,270.00', \n",
    "#                       '55,920.00', '5,530.00', '27,117.00', '10,773.00', '7,315.00']) \n",
    "# Landmass"
   ]
  },
  {
   "cell_type": "code",
   "execution_count": 108,
   "id": "b4f7d78a",
   "metadata": {},
   "outputs": [],
   "source": [
    "#2. Create a Pandas Series object of state population and landmass using state name as the key of both.\n",
    "#a. Pandas Series object of state population\n",
    "Population = pd.Series({'Kano':9383682, 'Lagos':9013534 , 'Kaduna': 6066562, 'Katsina':5792578, 'Oyo':5591589, \n",
    "                        'Rivers':5185400, 'Bauchi':4676465, 'Jigawa':4348649, 'Benue':4219244, 'Anambra':4182032, \n",
    "                        'Borno':4151193, 'Delta':4098391, 'Imo':3934899, 'Niger':3950249, 'Akwa Ibom':3920208, \n",
    "                        'Ogun':3728098, 'Sokoto':3696999, 'Ondo':3441024, 'Osun':3423535, 'Kogi':3278487,\n",
    "                        'Zamfara':3259846, 'Enugu':3257298, 'Kebbi':3238628, 'Edo':3218332, 'Plateau':3178712, \n",
    "                        'Adamawa':3168101, 'Cross River':2888966, 'Abia':2833999, 'Ekiti':2384212, 'Kwara':2371089, \n",
    "                        'Gombe':2353879, 'Yobe':2321591, 'Taraba':2300736, 'Ebonyi':2173501, 'Nasarawa':1863275, \n",
    "                        'Bayelsa':1703358, 'Federal Capital':1405201 })                      \n",
    "Population"
   ]
  },
  {
   "cell_type": "code",
   "execution_count": 107,
   "id": "7876fba3",
   "metadata": {},
   "outputs": [],
   "source": [
    "#Create a Pandas Series object of state population and landmass using state name as the key of both.\n",
    "#b. Pandas Series object of state landmass \n",
    "Landmass = pd.Series ({'Kano':20680.00, 'Lagos':3345.00 , 'Kaduna': 43460.00, 'Katsina':26785.00, 'Oyo':27460.00, \n",
    "                    'Rivers':11077.00, 'Bauchi':64605.00, 'Jigawa':22605.00, 'Benue':34059.00, 'Anambra':4844.00, \n",
    "                     'Borno':71130.00, 'Delta':18050.00, 'Imo':5430.00, 'Niger':13930.00, 'Akwa Ibom':6187.00, \n",
    "                     'Ogun':16762.00, 'Sokoto':25973.00, 'Ondo':14606.00, 'Osun':10245.00, 'Kogi':32440.00,\n",
    "                        'Zamfara':39762.00, 'Enugu':12440.00, 'Kebbi':41855.00, 'Edo':17450.00, 'Plateau':58030.00, \n",
    "                        'Adamawa':36917.00, 'Cross River':21050.00, 'Abia':5420.00, 'Ekiti':6353.00, 'Kwara':37700.00, \n",
    "                        'Gombe':18768.00, 'Yobe':45270.00, 'Taraba':55920.00, 'Ebonyi':5530.00, 'Nasarawa':27117.00, \n",
    "                        'Bayelsa':10773.00, 'Federal Capital':7315.00 }) \n",
    "Landmass"
   ]
  },
  {
   "cell_type": "code",
   "execution_count": 151,
   "id": "ab944b20",
   "metadata": {
    "scrolled": false
   },
   "outputs": [],
   "source": [
    "#3a. From the two Series objects, create a DataFrame object and add the state capital as new collumn to the table.\n",
    "census = pd.DataFrame({'Population2006':Population, 'LandmassKm2':Landmass })\n",
    "# census"
   ]
  },
  {
   "cell_type": "code",
   "execution_count": 150,
   "id": "cdec524b",
   "metadata": {
    "scrolled": false
   },
   "outputs": [],
   "source": [
    "#3b. \n",
    "# adding a new column to already existing dataframe object.The state capital as new collumn to the table.\n",
    "census ['Capital'] = census['Population2006'] + census ['LandmassKm2']\n",
    "# census "
   ]
  },
  {
   "cell_type": "code",
   "execution_count": 149,
   "id": "085a3ffd",
   "metadata": {},
   "outputs": [],
   "source": [
    "#4. Calculate the population density of each state and use it to generate a new collumn on the DataFrame object.\n",
    "census['Density']= census.Population2006 / census['LandmassKm2']\n",
    "# census"
   ]
  },
  {
   "cell_type": "markdown",
   "id": "11de745f",
   "metadata": {},
   "source": [
    "# Assignment 3\n",
    "1. Import the MELBOURNE_HOUSE_PRICES_LESS.csv dataset\n",
    "2. Extract all the values where price column is not null from the dataset to a new variable\n",
    "3. Extract all the values where price column is null from the dataset to a new variable\n",
    "4. Clean the dataset so it deosn't have any null value again using any method\n",
    "5. Compute the sum, mean of the price column on the dataset\n",
    "6. Get the house with the lowest price and with the highest price"
   ]
  },
  {
   "cell_type": "code",
   "execution_count": 25,
   "id": "4daf9484",
   "metadata": {},
   "outputs": [
    {
     "data": {
      "text/html": [
       "<div>\n",
       "<style scoped>\n",
       "    .dataframe tbody tr th:only-of-type {\n",
       "        vertical-align: middle;\n",
       "    }\n",
       "\n",
       "    .dataframe tbody tr th {\n",
       "        vertical-align: top;\n",
       "    }\n",
       "\n",
       "    .dataframe thead th {\n",
       "        text-align: right;\n",
       "    }\n",
       "</style>\n",
       "<table border=\"1\" class=\"dataframe\">\n",
       "  <thead>\n",
       "    <tr style=\"text-align: right;\">\n",
       "      <th></th>\n",
       "      <th>Suburb</th>\n",
       "      <th>Address</th>\n",
       "      <th>Rooms</th>\n",
       "      <th>Type</th>\n",
       "      <th>Price</th>\n",
       "      <th>Method</th>\n",
       "      <th>SellerG</th>\n",
       "      <th>Date</th>\n",
       "      <th>Postcode</th>\n",
       "      <th>Regionname</th>\n",
       "      <th>Propertycount</th>\n",
       "      <th>Distance</th>\n",
       "      <th>CouncilArea</th>\n",
       "    </tr>\n",
       "  </thead>\n",
       "  <tbody>\n",
       "    <tr>\n",
       "      <th>0</th>\n",
       "      <td>Abbotsford</td>\n",
       "      <td>49 Lithgow St</td>\n",
       "      <td>3</td>\n",
       "      <td>h</td>\n",
       "      <td>1490000.0</td>\n",
       "      <td>S</td>\n",
       "      <td>Jellis</td>\n",
       "      <td>1/04/2017</td>\n",
       "      <td>3067</td>\n",
       "      <td>Northern Metropolitan</td>\n",
       "      <td>4019</td>\n",
       "      <td>3.0</td>\n",
       "      <td>Yarra City Council</td>\n",
       "    </tr>\n",
       "    <tr>\n",
       "      <th>1</th>\n",
       "      <td>Abbotsford</td>\n",
       "      <td>59A Turner St</td>\n",
       "      <td>3</td>\n",
       "      <td>h</td>\n",
       "      <td>1220000.0</td>\n",
       "      <td>S</td>\n",
       "      <td>Marshall</td>\n",
       "      <td>1/04/2017</td>\n",
       "      <td>3067</td>\n",
       "      <td>Northern Metropolitan</td>\n",
       "      <td>4019</td>\n",
       "      <td>3.0</td>\n",
       "      <td>Yarra City Council</td>\n",
       "    </tr>\n",
       "    <tr>\n",
       "      <th>2</th>\n",
       "      <td>Abbotsford</td>\n",
       "      <td>119B Yarra St</td>\n",
       "      <td>3</td>\n",
       "      <td>h</td>\n",
       "      <td>1420000.0</td>\n",
       "      <td>S</td>\n",
       "      <td>Nelson</td>\n",
       "      <td>1/04/2017</td>\n",
       "      <td>3067</td>\n",
       "      <td>Northern Metropolitan</td>\n",
       "      <td>4019</td>\n",
       "      <td>3.0</td>\n",
       "      <td>Yarra City Council</td>\n",
       "    </tr>\n",
       "    <tr>\n",
       "      <th>3</th>\n",
       "      <td>Aberfeldie</td>\n",
       "      <td>68 Vida St</td>\n",
       "      <td>3</td>\n",
       "      <td>h</td>\n",
       "      <td>1515000.0</td>\n",
       "      <td>S</td>\n",
       "      <td>Barry</td>\n",
       "      <td>1/04/2017</td>\n",
       "      <td>3040</td>\n",
       "      <td>Western Metropolitan</td>\n",
       "      <td>1543</td>\n",
       "      <td>7.5</td>\n",
       "      <td>Moonee Valley City Council</td>\n",
       "    </tr>\n",
       "    <tr>\n",
       "      <th>4</th>\n",
       "      <td>Airport West</td>\n",
       "      <td>92 Clydesdale Rd</td>\n",
       "      <td>2</td>\n",
       "      <td>h</td>\n",
       "      <td>670000.0</td>\n",
       "      <td>S</td>\n",
       "      <td>Nelson</td>\n",
       "      <td>1/04/2017</td>\n",
       "      <td>3042</td>\n",
       "      <td>Western Metropolitan</td>\n",
       "      <td>3464</td>\n",
       "      <td>10.4</td>\n",
       "      <td>Moonee Valley City Council</td>\n",
       "    </tr>\n",
       "  </tbody>\n",
       "</table>\n",
       "</div>"
      ],
      "text/plain": [
       "         Suburb           Address  Rooms Type      Price Method   SellerG  \\\n",
       "0    Abbotsford     49 Lithgow St      3    h  1490000.0      S    Jellis   \n",
       "1    Abbotsford     59A Turner St      3    h  1220000.0      S  Marshall   \n",
       "2    Abbotsford     119B Yarra St      3    h  1420000.0      S    Nelson   \n",
       "3    Aberfeldie        68 Vida St      3    h  1515000.0      S     Barry   \n",
       "4  Airport West  92 Clydesdale Rd      2    h   670000.0      S    Nelson   \n",
       "\n",
       "        Date  Postcode             Regionname  Propertycount  Distance  \\\n",
       "0  1/04/2017      3067  Northern Metropolitan           4019       3.0   \n",
       "1  1/04/2017      3067  Northern Metropolitan           4019       3.0   \n",
       "2  1/04/2017      3067  Northern Metropolitan           4019       3.0   \n",
       "3  1/04/2017      3040   Western Metropolitan           1543       7.5   \n",
       "4  1/04/2017      3042   Western Metropolitan           3464      10.4   \n",
       "\n",
       "                  CouncilArea  \n",
       "0          Yarra City Council  \n",
       "1          Yarra City Council  \n",
       "2          Yarra City Council  \n",
       "3  Moonee Valley City Council  \n",
       "4  Moonee Valley City Council  "
      ]
     },
     "execution_count": 25,
     "metadata": {},
     "output_type": "execute_result"
    }
   ],
   "source": [
    "#Import the MELBOURNE_HOUSE_PRICES_LESS.csv dataset\n",
    "mhpl = pd.read_csv('C:\\\\Datasets\\\\MELBOURNE_HOUSE_PRICES_LESS.csv')\n",
    "mhpl.head()"
   ]
  },
  {
   "cell_type": "code",
   "execution_count": 45,
   "id": "d8edc79a",
   "metadata": {},
   "outputs": [],
   "source": [
    "#2. Extract all the values where price column is not null from the dataset to a new variable\n",
    "# mhpl.notnull()"
   ]
  },
  {
   "cell_type": "code",
   "execution_count": 46,
   "id": "75017983",
   "metadata": {},
   "outputs": [],
   "source": [
    "#2. Extract all the values where price column is null from the dataset to a new variable\n",
    "# mhpl.isnull()"
   ]
  },
  {
   "cell_type": "code",
   "execution_count": 47,
   "id": "df7d1406",
   "metadata": {},
   "outputs": [],
   "source": [
    "#3. Clean the dataset so it deosn't have any null value again using any method\n",
    "# mhpl.dropna()"
   ]
  },
  {
   "cell_type": "code",
   "execution_count": 37,
   "id": "84d4f2ef",
   "metadata": {},
   "outputs": [],
   "source": [
    "#4. Compute the sum, mean of the price column on the dataset\n",
    "# mhpl.sum(), mhpl.mean()"
   ]
  },
  {
   "cell_type": "code",
   "execution_count": 38,
   "id": "910b5e42",
   "metadata": {},
   "outputs": [],
   "source": [
    "#5. Get the house with the lowest price and with the highest price\n",
    "# np.min(mhpl), np.max(mhpl)"
   ]
  }
 ],
 "metadata": {
  "kernelspec": {
   "display_name": "Python 3 (ipykernel)",
   "language": "python",
   "name": "python3"
  },
  "language_info": {
   "codemirror_mode": {
    "name": "ipython",
    "version": 3
   },
   "file_extension": ".py",
   "mimetype": "text/x-python",
   "name": "python",
   "nbconvert_exporter": "python",
   "pygments_lexer": "ipython3",
   "version": "3.9.12"
  }
 },
 "nbformat": 4,
 "nbformat_minor": 5
}
